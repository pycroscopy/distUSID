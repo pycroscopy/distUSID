{
 "cells": [
  {
   "cell_type": "code",
   "execution_count": 1,
   "metadata": {},
   "outputs": [],
   "source": [
    "import h5py\n",
    "from shutil import copyfile\n",
    "import tempfile\n",
    "\n",
    "# I am importing pycroscopy from the original package but you will have to change yours\n",
    "import sys\n",
    "sys.path.append('/Users/syz/PycharmProjects/pyUSID/')\n",
    "sys.path.append('/Users/syz/PycharmProjects/pycroscopy/')\n",
    "from pycroscopy.processing import SignalFilter\n",
    "from pycroscopy.processing import fft\n",
    "# You will need to do something like:\n",
    "#from fft import LowPassFilter\n",
    "#from mpi_signal_filter import SignalFilter"
   ]
  },
  {
   "cell_type": "code",
   "execution_count": 2,
   "metadata": {},
   "outputs": [],
   "source": [
    "orig_path = 'GLine_8V_10kHz_256x256_0001_clean.h5'\n",
    "\n",
    "with tempfile.TemporaryDirectory() as tmp_dir:\n",
    "    h5_path = tmp_dir + 'gline.h5'\n",
    "    copyfile(orig_path, h5_path)"
   ]
  },
  {
   "cell_type": "code",
   "execution_count": 2,
   "metadata": {},
   "outputs": [],
   "source": [
    "h5_path = 'GLine_8V_10kHz_256x256_0001_clean.h5'"
   ]
  },
  {
   "cell_type": "code",
   "execution_count": 3,
   "metadata": {},
   "outputs": [],
   "source": [
    "h5_f = h5py.File(h5_path, mode='r+')\n",
    "# Not necessary I think but Chris used it\n",
    "h5_f.atomic = True # This doesn't seem to make any difference\n",
    "\n",
    "h5_grp = h5_f['Measurement_000/Channel_000']\n",
    "h5_main = h5_grp['Raw_Data']\n",
    "\n",
    "# Adding some important metadata that was missing in the HDF5 file"
   ]
  },
  {
   "cell_type": "code",
   "execution_count": 6,
   "metadata": {},
   "outputs": [],
   "source": [
    "h5_main.attrs.update({'quantity': 'Deflection', 'units': 'V'})\n",
    "for dset_name in ['Position_Indices', 'Position_Values']:\n",
    "    h5_dset = h5_grp[dset_name]\n",
    "    usid.hdf_utils.write_simple_attrs(h5_dset, {'labels': ['X', 'Y'],\n",
    "                                                'units': ['au', 'au']})\n",
    "for dset_name in ['Spectroscopic_Indices', 'Spectroscopic_Values']:\n",
    "    h5_dset = h5_grp[dset_name]\n",
    "    usid.hdf_utils.write_simple_attrs(h5_dset, {'labels': ['Bias'],\n",
    "                                                'units': ['V']})"
   ]
  },
  {
   "cell_type": "code",
   "execution_count": 4,
   "metadata": {},
   "outputs": [
    {
     "name": "stderr",
     "output_type": "stream",
     "text": [
      "/Users/syz/PycharmProjects/pyUSID/pyUSID/io/usi_data.py:148: UserWarning: This dataset does not have an N-dimensional form\n",
      "  warn('This dataset does not have an N-dimensional form')\n"
     ]
    },
    {
     "name": "stdout",
     "output_type": "stream",
     "text": [
      "Consider calling test() to check results before calling compute() which computes on the entire dataset and writes back to the HDF5 file\n",
      "No mpi4py found or script was not called via mpixexec / mpirun. Assuming single node computation\n",
      "Rank 0 - on socket with 4 logical cores and 6.39 GB avail. RAM shared by 1 ranks each given 3 cores.\n",
      "Allowed to read 43690 pixels per chunk\n",
      "Allowed to read 14563 pixels per chunk\n",
      "Checking for duplicates:\n"
     ]
    }
   ],
   "source": [
    "samp_rate = 4E+6 # I am cheating here\n",
    "ex_freq = h5_grp.attrs['center frequency [Hz]']\n",
    "num_spectral_pts = h5_main.shape[1]\n",
    "\n",
    "frequency_filters = [fft.HarmonicPassFilter(num_spectral_pts, samp_rate, ex_freq, 1E+3, 10)]\n",
    "noise_tol = 1E-4\n",
    "\n",
    "sig_filt = SignalFilter(h5_main, frequency_filters=frequency_filters,\n",
    "                           noise_threshold=noise_tol, write_filtered=True,\n",
    "                           write_condensed=False, num_pix=1, verbose=True)"
   ]
  },
  {
   "cell_type": "code",
   "execution_count": 17,
   "metadata": {},
   "outputs": [
    {
     "ename": "TypeError",
     "evalue": "unsupported operand type(s) for /: 'float' and 'NoneType'",
     "output_type": "error",
     "traceback": [
      "\u001b[0;31m---------------------------------------------------------------------------\u001b[0m",
      "\u001b[0;31mTypeError\u001b[0m                                 Traceback (most recent call last)",
      "\u001b[0;32m<ipython-input-17-db6d87822936>\u001b[0m in \u001b[0;36m<module>\u001b[0;34m()\u001b[0m\n\u001b[0;32m----> 1\u001b[0;31m \u001b[0;36m0.23\u001b[0m \u001b[0;34m/\u001b[0m \u001b[0;32mNone\u001b[0m\u001b[0;34m\u001b[0m\u001b[0m\n\u001b[0m",
      "\u001b[0;31mTypeError\u001b[0m: unsupported operand type(s) for /: 'float' and 'NoneType'"
     ]
    }
   ],
   "source": [
    "h5_filt_grp = sig_filt.compute()"
   ]
  },
  {
   "cell_type": "code",
   "execution_count": 8,
   "metadata": {},
   "outputs": [],
   "source": [
    "\n",
    "\n",
    "h5_f.close()"
   ]
  },
  {
   "cell_type": "code",
   "execution_count": null,
   "metadata": {},
   "outputs": [],
   "source": []
  }
 ],
 "metadata": {
  "anaconda-cloud": {},
  "kernelspec": {
   "display_name": "Python [conda env:anaconda]",
   "language": "python",
   "name": "conda-env-anaconda-py"
  },
  "language_info": {
   "codemirror_mode": {
    "name": "ipython",
    "version": 3
   },
   "file_extension": ".py",
   "mimetype": "text/x-python",
   "name": "python",
   "nbconvert_exporter": "python",
   "pygments_lexer": "ipython3",
   "version": "3.5.5"
  }
 },
 "nbformat": 4,
 "nbformat_minor": 2
}
