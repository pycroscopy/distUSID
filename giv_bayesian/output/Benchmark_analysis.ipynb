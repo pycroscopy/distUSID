{
 "cells": [
  {
   "cell_type": "code",
   "execution_count": 16,
   "metadata": {},
   "outputs": [],
   "source": [
    "import sys\n",
    "import re\n",
    "import time\n",
    "import datetime\n",
    "import numpy as np\n",
    "from functools import partial\n",
    "\n",
    "sys.path.append('/Users/syz/PycharmProjects/pyUSID/')\n",
    "import pyUSID as usid\n",
    "\n",
    "time_str_to_num = partial(usid.io_utils.formatted_str_to_number, \n",
    "                          magnitude_names=['msec', 'sec', 'mins', 'hours'], \n",
    "                          magnitude_values=[0.001, 1, 60, 3600], separator=' ')\n",
    "\n",
    "def parse_compute_line(line):\n",
    "    # Rank 53 - computed chunk in 2.61 mins or 147.0 msec per pixel. Average: 147.0 msec per pixel.\n",
    "    matchObj = re.match(r'Rank (.*) - computed chunk in (.*) or (.*) per pixel. Average: (.*) per pixel.', line, re.M|re.I)\n",
    "    type_list = [int, str, str, str]\n",
    "    if matchObj:\n",
    "        raw_vals = [type_caster(matchObj.group(ind)) for ind, type_caster in zip(range(1,1+len(type_list)),type_list)]\n",
    "        # We are only interested in the third value - time per pixel\n",
    "        return time_str_to_num(raw_vals[2])\n",
    "    else:\n",
    "        return None\n",
    "    \n",
    "def parse_write_line(line):\n",
    "    # Rank 28 - wrote its 1064 pixel chunk in 6.42 sec\n",
    "    matchObj = re.match(r'Rank (.*) - wrote its (.*) pixel chunk in (.*)', line, re.M|re.I)\n",
    "    type_list = [int, int, str]\n",
    "    if matchObj:\n",
    "        raw_vals = [type_caster(matchObj.group(ind)) for ind, type_caster in zip(range(1,1+len(type_list)),type_list)]\n",
    "        # We are only interested in the quotient of the third and second values\n",
    "        return time_str_to_num(raw_vals[2]) / raw_vals[1]\n",
    "    else:\n",
    "        return None\n",
    "    \n",
    "def parse_execution_time(line):\n",
    "    # Execution time: 167.08025765419006 sec\n",
    "    matchObj = re.match(r'Execution time: (.*) sec', line, re.M|re.I)\n",
    "    type_list = [float]\n",
    "    if matchObj:\n",
    "        raw_vals = [type_caster(matchObj.group(ind)) for ind, type_caster in zip(range(1,1+len(type_list)),type_list)]\n",
    "        # We are only interested in the quotient of the third and second values\n",
    "        return raw_vals[0]\n",
    "    else:\n",
    "        return None\n",
    "    \n",
    "def parse_log_filename(line):\n",
    "    # Execution time: 167.08025765419006 sec\n",
    "    matchObj = re.match(r'GivBenchmarkN(.*)R(.*)\\.(.*)', line, re.M|re.I)\n",
    "    type_list = [int, int, str]\n",
    "    if matchObj:\n",
    "        raw_vals = [type_caster(matchObj.group(ind)) for ind, type_caster in zip(range(1,1+len(type_list)),type_list)]\n",
    "        # We are only interested in the quotient of the third and second values\n",
    "        return raw_vals[:2]\n",
    "    else:\n",
    "        return None\n",
    "    \n",
    "def parse_console_logs(file_path):\n",
    "    compute_times = list()\n",
    "    write_times = list()\n",
    "    total_time = None\n",
    "    with open(file_path,mode='r') as file_handle:\n",
    "        console_output = file_handle.readlines()\n",
    "        for curr_line in console_output:\n",
    "            ret_val = parse_compute_line(curr_line)\n",
    "            if ret_val is not None:\n",
    "                compute_times.append(ret_val)\n",
    "                continue\n",
    "            ret_val = parse_write_line(curr_line)\n",
    "            if ret_val is not None:\n",
    "                write_times.append(ret_val)\n",
    "                continue\n",
    "            ret_val = parse_execution_time(curr_line)\n",
    "            if ret_val is not None:\n",
    "                # Should only come here once\n",
    "                total_time = ret_val\n",
    "    return compute_times, write_times, total_time"
   ]
  },
  {
   "cell_type": "code",
   "execution_count": 30,
   "metadata": {},
   "outputs": [],
   "source": [
    "import os\n",
    "\n",
    "ranks = []\n",
    "compute_mean = []\n",
    "compute_std = []\n",
    "write_mean = []\n",
    "write_std = []\n",
    "total_times = []\n",
    "\n",
    "for file_name in os.listdir('.'):\n",
    "    if not file_name.startswith('GivBenchmark'): \n",
    "        continue\n",
    "    nodes, ranks_per_node = parse_log_filename(file_name)\n",
    "    compute_times, write_times, tot_time = parse_console_logs(file_name)\n",
    "    \n",
    "    ranks.append(nodes * ranks_per_node)\n",
    "    compute_mean.append(np.mean(compute_times))\n",
    "    compute_std.append(np.std(compute_times))\n",
    "    write_mean.append(np.mean(write_times))\n",
    "    write_std.append(np.std(write_times))\n",
    "    total_times.append(tot_time)"
   ]
  },
  {
   "cell_type": "code",
   "execution_count": 31,
   "metadata": {},
   "outputs": [],
   "source": [
    "import matplotlib.pyplot as plt"
   ]
  },
  {
   "cell_type": "code",
   "execution_count": 40,
   "metadata": {},
   "outputs": [
    {
     "data": {
      "image/png": "[encoded data removed]",
      "text/plain": [
       "<Figure size 864x306 with 3 Axes>"
      ]
     },
     "metadata": {},
     "output_type": "display_data"
    }
   ],
   "source": [
    "fig, axes = plt.subplots(ncols=3, figsize=(12, 4.25))\n",
    "for axis, mean_vals, std_vals, qty_name in zip(axes.flat, \n",
    "                                              [compute_mean, write_mean, total_times],\n",
    "                                              [compute_std, write_std, [0 for item in total_times]],\n",
    "                                              ['Compute time/pixel', 'Write time/pixel', 'Total time']):\n",
    "    #axis.scatter(ranks, mean_vals)\n",
    "    axis.errorbar(ranks, mean_vals, yerr=std_vals, fmt='o')\n",
    "    axis.set_xscale('log')\n",
    "    axis.set_title(qty_name, fontsize=16)\n",
    "    axis.set_xlabel('Ranks', fontsize=16)\n",
    "    \n",
    "usid.plot_utils.set_tick_font_size(axes, 14)\n",
    "fig.tight_layout()"
   ]
  },
  {
   "cell_type": "code",
   "execution_count": null,
   "metadata": {
    "collapsed": true
   },
   "outputs": [],
   "source": []
  }
 ],
 "metadata": {
  "anaconda-cloud": {},
  "kernelspec": {
   "display_name": "Python [default]",
   "language": "python",
   "name": "python3"
  },
  "language_info": {
   "codemirror_mode": {
    "name": "ipython",
    "version": 3
   },
   "file_extension": ".py",
   "mimetype": "text/x-python",
   "name": "python",
   "nbconvert_exporter": "python",
   "pygments_lexer": "ipython3",
   "version": "3.5.5"
  }
 },
 "nbformat": 4,
 "nbformat_minor": 2
}
